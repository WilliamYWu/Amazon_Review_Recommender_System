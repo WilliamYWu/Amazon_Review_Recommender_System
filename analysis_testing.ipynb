{
 "cells": [
  {
   "cell_type": "code",
   "execution_count": null,
   "metadata": {},
   "outputs": [],
   "source": [
    "import os, gzip\n",
    "import re\n",
    "\n",
    "import urllib.request\n",
    "import multiprocessing as mp\n",
    "import concurrent.futures\n",
    "\n",
    "import pandas as pd\n",
    "import numpy as np"
   ]
  },
  {
   "cell_type": "code",
   "execution_count": null,
   "metadata": {},
   "outputs": [],
   "source": [
    "MAIN_DIR = os.path.join(\"D:\" + os.sep, \"Code\", \"PYTHON\", \"Amazon_Recommender_System\")\n",
    "\n",
    "CODE_DIR = os.path.join(MAIN_DIR, \"Code\")\n",
    "\n",
    "ANALYSIS_DIR = os.path.join(MAIN_DIR, \"Analysis\")\n",
    "DATA_DIR = os.path.join(MAIN_DIR, \"Data\")\n",
    "\n",
    "RAW_DATA_DIR = os.path.join(DATA_DIR, \"Raw\")\n",
    "CLEAN_DATA_DIR = os.path.join(DATA_DIR, \"Clean\")\n",
    "\n",
    "VIDEO_GAME_RAW_DIR = os.path.join(RAW_DATA_DIR, \"Video_Game\")\n",
    "VIDEO_GAME_CLEAN_DIR = os.path.join(CLEAN_DATA_DIR, \"Video_Game\")\n",
    "BOOKS_RAW_DIR = os.path.join(RAW_DATA_DIR, \"Books\")\n",
    "BOOKS_CLEAN_DIR = os.path.join(CLEAN_DATA_DIR, \"Books\")\n",
    "\n",
    "url_data_directory = BOOKS_RAW_DIR"
   ]
  },
  {
   "cell_type": "code",
   "execution_count": null,
   "metadata": {},
   "outputs": [],
   "source": [
    "for file_num in range(0, len(os.listdir(url_data_directory)),1):\n",
    "    raw_df = pd.read_json(os.path.join(url_data_directory, f\"chunk_{file_num}.json\"), lines=True)\n",
    "    null_count = raw_df.isnull().sum().to_frame().T\n",
    "    null_df = pd.concat([null_df, null_count], ignore_index=True)\n",
    "    \n",
    "null_df.to_excel(os.path.join(ANALYSIS_DIR, \"null_values.xlsx\"), index=True)"
   ]
  }
 ],
 "metadata": {
  "language_info": {
   "name": "python"
  },
  "orig_nbformat": 4
 },
 "nbformat": 4,
 "nbformat_minor": 2
}
